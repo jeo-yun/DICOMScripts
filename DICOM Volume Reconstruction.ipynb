{
 "cells": [
  {
   "cell_type": "markdown",
   "metadata": {},
   "source": [
    "## 3D Reconstruction of 2D Slices of DICOM Images"
   ]
  },
  {
   "cell_type": "code",
   "execution_count": 9,
   "metadata": {},
   "outputs": [
    {
     "name": "stdout",
     "output_type": "stream",
     "text": [
      "folder:PANCREAS_0001|number of images:240|processed!\n",
      "\n",
      "Folder:  /Users/lukeyun/SDS323/manifest-1599750808610/Pancreas-CT/PANCREAS_0001\n",
      "Volume Shape:  (512, 512, 240)\n",
      "Spacing:  1.0\n"
     ]
    }
   ],
   "source": [
    "import os\n",
    "import pydicom\n",
    "import numpy as np\n",
    "import matplotlib.pyplot as plt\n",
    "from mpl_toolkits.mplot3d import Axes3D\n",
    "from collections import defaultdict\n",
    "\n",
    "root_dir_string = \"/Users/lukeyun/SDS323/manifest-1599750808610/Pancreas-CT\" # Change as necessary\n",
    "root_dir_list = sorted(os.listdir(root_dir_string))\n",
    "data = defaultdict(list)\n",
    "\n",
    "folder_volumes = []\n",
    "\n",
    "# Go through the files in root directory\n",
    "for folder in root_dir_list[:3]: \n",
    "    # leave root_dir_list[:3] when no need to check and just need the finished array\n",
    "    # change to root_dir_list[:3] to only go through the first 3 folders which is needed when plotting 3D reconstruction for check\n",
    "    \n",
    "    # Skip at non-data filesp\n",
    "    if not folder.startswith(\"PANCREAS\"):\n",
    "        continue\n",
    "    \n",
    "    # all the dicom slices for the folder\n",
    "    dicom_slices_folder =[]\n",
    "\n",
    "    # Find data files\n",
    "    # Assuming all data is organized the same\n",
    "    data_dir_string = list(os.walk(os.path.join(root_dir_string, folder)))[2][0]\n",
    "    dcm_files = sorted(list(os.walk(os.path.join(root_dir_string, folder)))[2][2])\n",
    "\n",
    "    # Read the data\n",
    "    for image_file in dcm_files:\n",
    "\n",
    "        cur_data = pydicom.dcmread(os.path.join(data_dir_string, image_file))\n",
    "        cur_data_pixels = cur_data.pixel_array # extract only the picture\n",
    "        dicom_slices_folder.append(cur_data)\n",
    "        data[folder].append(cur_data_pixels) \n",
    "\n",
    "    #### start of 3D volume reconstruction\n",
    "    # Extracting necessary information from the DICOM metadata\n",
    "    spacing_between_slices = np.abs(dicom_slices_folder[0].ImagePositionPatient[2] - dicom_slices_folder[1].ImagePositionPatient[2])\n",
    "    rows = dicom_slices_folder[0].Rows\n",
    "    cols = dicom_slices_folder[0].Columns\n",
    "    num_slices = len(dicom_slices_folder)\n",
    "\n",
    "    # Creating an empty 3D array to store the reconstructed volume\n",
    "    volume = np.zeros((rows, cols, num_slices))\n",
    "\n",
    "    # Filling the 3D array with DICOM pixel data\n",
    "    for i, dicom_slice in enumerate(dicom_slices_folder):\n",
    "        volume[:, :, i] = dicom_slice.pixel_array\n",
    "\n",
    "    folder_volumes.append((os.path.join(root_dir_string, folder), volume, spacing_between_slices))\n",
    "    \n",
    "    print(\"folder:\", folder, \"|number of images:\", len(dcm_files), \"|processed!\", sep=\"\", end=\"\\n\\n\")\n",
    "\n",
    "### Checking that the 3D reconstruction happened currently\n",
    "### Only run the following code on a small number of folders\n",
    "for folder_name, volume, spacing in folder_volumes:\n",
    "    print(\"Folder: \", folder_name)\n",
    "    print(\"Volume Shape: \", volume.shape)\n",
    "    print(\"Spacing: \", spacing)\n",
    "\n",
    "# visualization of 3D reconstruction with matplotlib\n",
    "    # Plot the 3D volume\n",
    "    fig = plt.figure()\n",
    "    ax = fig.add_subplot(111, projection='3d')\n",
    "\n",
    "    # Plot voxels\n",
    "    x, y, z = np.indices(volume.shape) # three mesh grids that correspond to dimensions of 3D volume array\n",
    "    ax.scatter(x, y, z, c=volume.flatten(), cmap='gray') # scatter plot\n",
    "    # volume.flatten() determines the color of each point by its corresponding voxel intensity in the volume array\n",
    "\n",
    "    plt.title(folder_name)\n",
    "    plt.show()\n",
    "\n"
   ]
  }
 ],
 "metadata": {
  "kernelspec": {
   "display_name": "tf",
   "language": "python",
   "name": "python3"
  },
  "language_info": {
   "codemirror_mode": {
    "name": "ipython",
    "version": 3
   },
   "file_extension": ".py",
   "mimetype": "text/x-python",
   "name": "python",
   "nbconvert_exporter": "python",
   "pygments_lexer": "ipython3",
   "version": "3.11.4"
  }
 },
 "nbformat": 4,
 "nbformat_minor": 2
}
